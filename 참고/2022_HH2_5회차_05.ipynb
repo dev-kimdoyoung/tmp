{
  "nbformat": 4,
  "nbformat_minor": 0,
  "metadata": {
    "colab": {
      "name": "2022_HH2_5회차_05.ipynb",
      "provenance": [],
      "collapsed_sections": []
    },
    "kernelspec": {
      "name": "python3",
      "display_name": "Python 3"
    },
    "language_info": {
      "name": "python"
    }
  },
  "cells": [
    {
      "cell_type": "markdown",
      "source": [
        "# 텍스트 분류와 ML VS DL\n",
        "- 텍스트 분류 리뷰: 수집된 뉴스 데이터 분야 분류\n",
        "- ML 기법\n",
        "- DL 활용 "
      ],
      "metadata": {
        "id": "AN9h7LWPfGiy"
      }
    },
    {
      "cell_type": "code",
      "source": [
        "!pip install konlpy"
      ],
      "metadata": {
        "colab": {
          "base_uri": "https://localhost:8080/"
        },
        "id": "uobKuqFO00WQ",
        "outputId": "721155e4-cef1-400b-829d-da74c2d7343b"
      },
      "execution_count": null,
      "outputs": [
        {
          "output_type": "stream",
          "name": "stdout",
          "text": [
            "Collecting konlpy\n",
            "  Downloading konlpy-0.6.0-py2.py3-none-any.whl (19.4 MB)\n",
            "\u001b[K     |████████████████████████████████| 19.4 MB 37.5 MB/s \n",
            "\u001b[?25hCollecting JPype1>=0.7.0\n",
            "  Downloading JPype1-1.3.0-cp37-cp37m-manylinux_2_5_x86_64.manylinux1_x86_64.whl (448 kB)\n",
            "\u001b[K     |████████████████████████████████| 448 kB 43.7 MB/s \n",
            "\u001b[?25hRequirement already satisfied: numpy>=1.6 in /usr/local/lib/python3.7/dist-packages (from konlpy) (1.21.5)\n",
            "Requirement already satisfied: lxml>=4.1.0 in /usr/local/lib/python3.7/dist-packages (from konlpy) (4.2.6)\n",
            "Requirement already satisfied: typing-extensions in /usr/local/lib/python3.7/dist-packages (from JPype1>=0.7.0->konlpy) (3.10.0.2)\n",
            "Installing collected packages: JPype1, konlpy\n",
            "Successfully installed JPype1-1.3.0 konlpy-0.6.0\n"
          ]
        }
      ]
    },
    {
      "cell_type": "markdown",
      "source": [
        "# 텍스트 처리 \n",
        "- text 폴더 생성 후, 100, 101, 103, 105 폴더 생성\n",
        "- 각 폴더에 150개의 기사들을 각각 업로드"
      ],
      "metadata": {
        "id": "4_DTt5OQffGp"
      }
    },
    {
      "cell_type": "code",
      "source": [
        "# TF-IDF로 텍스트를 벡터로 변환하는 모듈\n",
        "from konlpy.tag import Okt\n",
        "import pickle\n",
        "import numpy as np\n",
        "\n",
        "# KoNLPy의 Okt객체 초기화 ---- ( ※ 1)\n",
        "okt = Okt()\n",
        "# 전역 변수 --- ( ※ 2)\n",
        "word_dic = {'_id': 0} # 단어 사전\n",
        "dt_dic = {} # 문장 전체에서의 단어 출현 횟수\n",
        "files = [] # 문서들을 저장할 리스트\n",
        "\n",
        "def tokenize(text):\n",
        "    '''KoNLPy로 형태소 분석하기''' # --- ( ※ 3) \n",
        "    result = []\n",
        "    word_s = okt.pos(text, norm=True, stem=True)\n",
        "    for n, h in word_s:\n",
        "        if not (h in ['Noun', 'Verb ', 'Adjective']): continue\n",
        "        if h == 'Punctuation' and h2 == 'Number': continue\n",
        "        result.append(n)\n",
        "    return result\n",
        "\n",
        "def words_to_ids(words, auto_add = True):\n",
        "    ''' 단어를 ID로 변환하기 ''' # --- ( ※ 4)\n",
        "    result = []\n",
        "    for w in words:\n",
        "        if w in word_dic:\n",
        "            result.append(word_dic[w])\n",
        "            continue\n",
        "        elif auto_add:\n",
        "            id = word_dic[w] = word_dic['_id']\n",
        "            word_dic['_id'] += 1\n",
        "            result.append(id)\n",
        "    return result\n",
        "\n",
        "def add_text(text):\n",
        "    '''텍스트를 ID 리스트로 변환해서 추가하기''' # --- (*5)\n",
        "    ids = words_to_ids(tokenize(text))\n",
        "    files.append(ids)\n",
        "\n",
        "def add_file(path):\n",
        "    '''텍스트 파일을 학습 전용으로 추가하기''' # --- (*6)\n",
        "    with open(path, \"r\", encoding=\"utf-8\") as f:\n",
        "        s = f.read()\n",
        "        add_text(s)\n",
        "\n",
        "def calc_files():\n",
        "    '''추가한 파일 계산하기''' # --- (*7)\n",
        "    global dt_dic\n",
        "    result = []\n",
        "    doc_count = len(files)\n",
        "    dt_dic = {}\n",
        "    # 단어 출현 횟수 세기 --- (*8)\n",
        "    for words in files:\n",
        "        used_word = {}\n",
        "        data = np.zeros(word_dic['_id'])\n",
        "        for id in words:\n",
        "            data[id] += 1\n",
        "            used_word[id] = 1\n",
        "        # 단어 t가 사용되고 있을 경우 dt_dic의 수를 1 더하기 --- (*9)\n",
        "        for id in used_word:\n",
        "            if not(id in dt_dic): dt_dic[id] = 0\n",
        "            dt_dic[id] += 1\n",
        "        # 정규화하기 --- (*10)\n",
        "        data = data / len(words) \n",
        "        result.append(data)\n",
        "    # TF-IDF 계산하기 --- (*11)\n",
        "    for i, doc in enumerate(result):\n",
        "        for id, v in enumerate(doc):\n",
        "            idf = np.log(doc_count / dt_dic[id]) + 1\n",
        "            doc[id] = min([doc[id] * idf, 1.0])\n",
        "        result[i] = doc\n",
        "    return result\n",
        "\n",
        "def save_dic(fname):\n",
        "    '''사전을 파일로 저장하기''' # --- (*12)\n",
        "    pickle.dump(\n",
        "        [word_dic, dt_dic, files],\n",
        "        open(fname, \"wb\"))\n",
        "\n",
        "def load_dic(fname):\n",
        "    '''사전 파일 읽어 들이기''' # --- (*13)\n",
        "    global word_dic, dt_dic, files\n",
        "    n = pickle.load(open(fname, 'rb'))\n",
        "    word_dic, dt_dic, files = n\n",
        "\n",
        "def calc_text(text):\n",
        "    ''' 문장을 벡터로 변환하기 ''' # --- ( ※ 14)\n",
        "    data = np.zeros(word_dic['_id'])\n",
        "    words = words_to_ids(tokenize(text), False)\n",
        "    for w in words:\n",
        "        data[w] += 1\n",
        "    data = data / len(words)\n",
        "    for id, v in enumerate(data):\n",
        "        idf = np.log(len(files) / dt_dic[id]) + 1\n",
        "        data[id] = min([data[id] * idf, 1.0])\n",
        "    return data\n",
        "# 모듈 테스트하기 --- ( ※ 15)\n",
        "if __name__ == '__main__':\n",
        "    add_text('비')\n",
        "    add_text('오늘은 비가 내렸어요.') \n",
        "    add_text('오늘은 더웠지만 오후부터 비가 내렸다.') \n",
        "    add_text('비가 내리는 일요일이다.') \n",
        "    print(calc_files())\n",
        "    print(word_dic)"
      ],
      "metadata": {
        "colab": {
          "base_uri": "https://localhost:8080/"
        },
        "id": "7qoWKYRlxpQC",
        "outputId": "cb09da78-62fb-486c-9ce2-7ac9330d0b73"
      },
      "execution_count": null,
      "outputs": [
        {
          "output_type": "stream",
          "name": "stdout",
          "text": [
            "[array([1., 0., 0., 0., 0.]), array([0.5       , 0.84657359, 0.        , 0.        , 0.        ]), array([0.25      , 0.4232868 , 0.59657359, 0.59657359, 0.        ]), array([0.5, 0. , 0. , 0. , 1. ])]\n",
            "{'_id': 5, '비': 0, '오늘': 1, '덥다': 2, '오후': 3, '일요일': 4}\n"
          ]
        }
      ]
    },
    {
      "cell_type": "markdown",
      "source": [
        "# pickle을 통한 저장"
      ],
      "metadata": {
        "id": "ECMNHcFofxTe"
      }
    },
    {
      "cell_type": "code",
      "execution_count": null,
      "metadata": {
        "colab": {
          "base_uri": "https://localhost:8080/"
        },
        "id": "nqq-EvfMxjnD",
        "outputId": "a77301fc-0331-40ab-b8a6-e32dec1e665d"
      },
      "outputs": [
        {
          "output_type": "stream",
          "name": "stdout",
          "text": [
            "read_files= text/100\n",
            "read_files= text/101\n",
            "read_files= text/103\n",
            "read_files= text/105\n",
            "ok\n"
          ]
        }
      ],
      "source": [
        "import os, glob, pickle\n",
        "#import tfidf\n",
        "\n",
        "# 변수 초기화\n",
        "y = []\n",
        "x = []\n",
        "\n",
        "# 디렉터리 내부의 파일 목록 전체에 대해 처리하기 --- (*1)\n",
        "def read_files(path, label):\n",
        "    print(\"read_files=\", path)\n",
        "    files = glob.glob(path + \"/*.txt\")\n",
        "    for f in files:\n",
        "        if os.path.basename(f) == 'LICENSE.txt': continue\n",
        "        add_file(f)\n",
        "        y.append(label)\n",
        "\n",
        "# 기사를 넣은 디렉터리 읽어 들이기 --- ( ※ 2)\n",
        "read_files('text/100', 0)\n",
        "read_files('text/101', 1)\n",
        "read_files('text/103', 2)\n",
        "read_files('text/105', 3)\n",
        "\n",
        "\n",
        "# TF-IDF 벡터로 변환하기 --- (*3)\n",
        "x = calc_files()\n",
        "\n",
        "# 저장하기 --- (*4)\n",
        "pickle.dump([y, x], open('text/genre.pickle', 'wb'))\n",
        "save_dic('text/genre-tdidf.dic')\n",
        "print('ok')\n"
      ]
    },
    {
      "cell_type": "code",
      "source": [
        "import pickle\n",
        "from sklearn.naive_bayes import GaussianNB\n",
        "from sklearn.model_selection import train_test_split\n",
        "import sklearn.metrics as metrics\n",
        "import numpy as np\n",
        "\n",
        "# TF-IDF 데이터베이스 읽어 들이기 --- (*1)\n",
        "data = pickle.load(open(\"text/genre.pickle\", \"rb\"))\n",
        "y = data[0][0:600] # 레이블\n",
        "x = data[1][0:600] # TF-IDF\n"
      ],
      "metadata": {
        "id": "2lGE6Ua01I6x"
      },
      "execution_count": null,
      "outputs": []
    },
    {
      "cell_type": "code",
      "source": [
        "# 학습 전용과 테스트 전용으로 구분하기 --- (*2)\n",
        "x_train, x_test, y_train, y_test = train_test_split(\n",
        "        x, y, test_size=0.2)\n",
        "\n",
        "# 나이브 베이즈로 학습하기 --- (*3)\n",
        "model = GaussianNB()\n",
        "model.fit(x_train, y_train)\n",
        "\n",
        "# 평가하고 결과 출력하기 --- (*4)\n",
        "y_pred = model.predict(x_test)\n",
        "acc = metrics.accuracy_score(y_test, y_pred)\n",
        "rep = metrics.classification_report(y_test, y_pred)\n",
        "\n",
        "print(\"정답률=\", acc)\n",
        "print(rep)\n",
        "\n",
        "\n"
      ],
      "metadata": {
        "colab": {
          "base_uri": "https://localhost:8080/"
        },
        "id": "xNBH8WM5yZxV",
        "outputId": "84c5d6fd-60ca-44a9-c84c-a4823d799c63"
      },
      "execution_count": null,
      "outputs": [
        {
          "output_type": "stream",
          "name": "stdout",
          "text": [
            "정답률= 0.7916666666666666\n",
            "              precision    recall  f1-score   support\n",
            "\n",
            "           0       0.90      0.79      0.84        33\n",
            "           1       0.77      0.79      0.78        29\n",
            "           2       0.76      0.76      0.76        29\n",
            "           3       0.75      0.83      0.79        29\n",
            "\n",
            "    accuracy                           0.79       120\n",
            "   macro avg       0.79      0.79      0.79       120\n",
            "weighted avg       0.80      0.79      0.79       120\n",
            "\n"
          ]
        }
      ]
    },
    {
      "cell_type": "markdown",
      "source": [
        "# DL로 분류"
      ],
      "metadata": {
        "id": "8Ulpx5sYf2UF"
      }
    },
    {
      "cell_type": "code",
      "source": [
        "import pickle\n",
        "from sklearn.model_selection import train_test_split\n",
        "import sklearn.metrics as metrics\n",
        "import keras\n",
        "import tensorflow as tf\n",
        "from keras.models import Sequential\n",
        "from keras.layers import Dense, Dropout\n",
        "from tensorflow.keras.optimizers import RMSprop\n",
        "import matplotlib.pyplot as plt\n",
        "import numpy as np\n",
        "import h5py\n",
        "\n",
        "# 분류할 레이블 수 --- (*1)\n",
        "nb_classes = 4\n",
        "\n",
        "# 데이터베이스 읽어 들이기 --- (*2)\n",
        "data = pickle.load(open(\"text/genre.pickle\", \"rb\"))\n",
        "y = data[0][0:600] # 레이블\n",
        "x = data[1][0:600] # TF-IDF\n",
        "# 레이블 데이터를 One-hot 형식으로 변환하기 --- (*3)\n",
        "y = tf.keras.utils.to_categorical(y, nb_classes)\n",
        "in_size = x[0].shape[0]\n",
        "\n",
        "# 학습 전용과 테스트 전용으로 구분하기 --- (*4)\n",
        "x_train, x_test, y_train, y_test = train_test_split(\n",
        "        np.array(x), np.array(y), test_size=0.2)\n",
        "\n",
        "# MLP모델의 구조 정의하기 --- (*5)\n",
        "model = Sequential()\n",
        "model.add(Dense(512, activation='relu', input_shape=(in_size,)))\n",
        "model.add(Dropout(0.2))\n",
        "model.add(Dense(512, activation='relu'))\n",
        "model.add(Dropout(0.2))\n",
        "model.add(Dense(nb_classes, activation='softmax'))\n",
        "\n",
        "# 모델 컴파일하기 --- (*6)\n",
        "model.compile(\n",
        "    loss='categorical_crossentropy',\n",
        "    optimizer=RMSprop(),\n",
        "    metrics=['accuracy'])\n",
        "\n",
        "# 학습 실행하기 --- (*7)\n",
        "hist = model.fit(x_train, y_train,\n",
        "          batch_size=128, \n",
        "          epochs=5,\n",
        "          verbose=1,\n",
        "          validation_data=(x_test, y_test))\n",
        "\n",
        "# 평가하기 ---(*8)\n",
        "score = model.evaluate(x_test, y_test, verbose=1)\n",
        "print(\"정답률=\", score[1], 'loss=', score[0])\n",
        "\n",
        "# 가중치데이터 저장하기 --- (*9)\n",
        "model.save_weights('./text/genre-model.hdf5')\n",
        "\n",
        "# 학습 상태를 그래프로 그리기 --- (*10)\n",
        "plt.plot(hist.history['accuracy'])\n",
        "plt.plot(hist.history['val_accuracy'])\n",
        "plt.title('Accuracy')\n",
        "plt.legend(['train', 'test'], loc='upper left')\n",
        "plt.show()\n"
      ],
      "metadata": {
        "colab": {
          "base_uri": "https://localhost:8080/",
          "height": 499
        },
        "id": "zrlNPyq7yjZJ",
        "outputId": "3d6a1d10-df7c-46c4-b0f6-49db512045ff"
      },
      "execution_count": null,
      "outputs": [
        {
          "output_type": "stream",
          "name": "stdout",
          "text": [
            "Epoch 1/5\n",
            "4/4 [==============================] - 3s 505ms/step - loss: 1.3607 - accuracy: 0.4271 - val_loss: 1.2318 - val_accuracy: 0.7917\n",
            "Epoch 2/5\n",
            "4/4 [==============================] - 1s 170ms/step - loss: 1.0182 - accuracy: 0.9000 - val_loss: 0.8291 - val_accuracy: 0.8333\n",
            "Epoch 3/5\n",
            "4/4 [==============================] - 1s 167ms/step - loss: 0.4892 - accuracy: 0.9458 - val_loss: 0.5749 - val_accuracy: 0.8500\n",
            "Epoch 4/5\n",
            "4/4 [==============================] - 1s 170ms/step - loss: 0.2067 - accuracy: 0.9833 - val_loss: 0.5087 - val_accuracy: 0.8500\n",
            "Epoch 5/5\n",
            "4/4 [==============================] - 1s 164ms/step - loss: 0.1084 - accuracy: 0.9875 - val_loss: 0.4941 - val_accuracy: 0.8500\n",
            "4/4 [==============================] - 0s 21ms/step - loss: 0.4941 - accuracy: 0.8500\n",
            "정답률= 0.8500000238418579 loss= 0.49408596754074097\n"
          ]
        },
        {
          "output_type": "display_data",
          "data": {
            "image/png": "[encoded data removed]",
            "text/plain": [
              "<Figure size 432x288 with 1 Axes>"
            ]
          },
          "metadata": {
            "needs_background": "light"
          }
        }
      ]
    },
    {
      "cell_type": "markdown",
      "source": [
        "# 실제 데이터에 모형 적용"
      ],
      "metadata": {
        "id": "ssDWUfuFf52R"
      }
    },
    {
      "cell_type": "code",
      "source": [
        "import pickle\n",
        "import numpy as np\n",
        "import keras\n",
        "import tensorflow\n",
        "from keras.models import Sequential\n",
        "from keras.layers import Dense, Dropout\n",
        "from tensorflow.keras.optimizers import RMSprop\n",
        "from keras.models import model_from_json\n",
        "\n",
        "# 텍스트 준비하기 --- ( ※ 1)\n",
        "text1 = \"\"\"\n",
        "대통령이 북한과 관련된 이야기로 한미 정상회담을 준비하고 있습니다.\n",
        "\"\"\"\n",
        "text2 = \"\"\"\n",
        "iPhone과 iPad를 모두 가지고 다니므로 USB를 2개 연결할 수 있는 휴대용 배터리를 선호합니다.\n",
        "\"\"\"\n",
        "text3 = \"\"\"\n",
        "이번 주에는 미세먼지가 많을 것으로 예상되므로 노약자는 외출을 자제하는 것이 좋습니다.\n",
        "\"\"\"\n",
        "\n",
        "# TF-IDF 사전 읽어 들이기 --- (*2)\n",
        "load_dic(\"text/genre-tdidf.dic\")\n",
        "\n",
        "# 텍스트 지정해서 판별하기 --- (*4)\n",
        "def check_genre(text):\n",
        "    # 레이블 정의하기\n",
        "    LABELS = [\"정치\", \"경제\", \"생활 \", \"IT/과학\"]\n",
        "    # TF-IDF 벡터로 변환하기 -- (*5)\n",
        "    data = calc_text(text)    #Vectorizer의 transform 이용과 동일\n",
        "    # MLP로 예측하기 --- (*6)\n",
        "    pre = model.predict(np.array([data]))[0]\n",
        "    n = pre.argmax()\n",
        "    print(LABELS[n], \"(\", pre[n], \")\")\n",
        "    return LABELS[n], float(pre[n]), int(n) \n",
        "\n",
        "if __name__ == '__main__':\n",
        "    check_genre(text1)\n",
        "    check_genre(text2)\n",
        "    check_genre(text3)\n",
        "\n"
      ],
      "metadata": {
        "colab": {
          "base_uri": "https://localhost:8080/"
        },
        "id": "vYyIOw5MynGn",
        "outputId": "9ab77f98-92ee-42bb-972b-60a5c2c5c1f7"
      },
      "execution_count": null,
      "outputs": [
        {
          "output_type": "stream",
          "name": "stdout",
          "text": [
            "정치 ( 0.95031154 )\n",
            "경제 ( 0.5429995 )\n",
            "생활  ( 0.569227 )\n"
          ]
        }
      ]
    }
  ]
}