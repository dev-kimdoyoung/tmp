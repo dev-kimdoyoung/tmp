{
  "cells": [
    {
      "cell_type": "markdown",
      "metadata": {
        "id": "8Mnt4zfdguc3"
      },
      "source": [
        "## 1. 시계열 데이터에 대한 RNN 적용"
      ]
    },
    {
      "cell_type": "code",
      "execution_count": null,
      "metadata": {
        "colab": {
          "base_uri": "https://localhost:8080/"
        },
        "id": "cVQx2MUDbDwz",
        "outputId": "b12aee6b-4811-489b-895e-762e2610a303"
      },
      "outputs": [
        {
          "name": "stdout",
          "output_type": "stream",
          "text": [
            "<class 'pandas.core.frame.DataFrame'>\n",
            "Index: 252 entries, 2019-04-17 to 2020-04-16\n",
            "Data columns (total 6 columns):\n",
            " #   Column     Non-Null Count  Dtype  \n",
            "---  ------     --------------  -----  \n",
            " 0   Open       252 non-null    float64\n",
            " 1   High       252 non-null    float64\n",
            " 2   Low        252 non-null    float64\n",
            " 3   Close      252 non-null    float64\n",
            " 4   Adj Close  252 non-null    float64\n",
            " 5   Volume     252 non-null    int64  \n",
            "dtypes: float64(5), int64(1)\n",
            "memory usage: 13.8+ KB\n"
          ]
        }
      ],
      "source": [
        "import pandas as pd\n",
        "data=pd.read_csv('AMZN.csv', header=0,index_col=\"Date\")\n",
        "data.info()"
      ]
    },
    {
      "cell_type": "code",
      "execution_count": null,
      "metadata": {
        "colab": {
          "base_uri": "https://localhost:8080/"
        },
        "id": "cdhLxpUvbDw5",
        "outputId": "0e759684-d4bf-4806-e35c-5cd74141bce2"
      },
      "outputs": [
        {
          "name": "stdout",
          "output_type": "stream",
          "text": [
            "                   Open         High          Low        Close    Adj Close  \\\n",
            "Date                                                                          \n",
            "2019-04-17  1872.989990  1876.469971  1860.439941  1864.819946  1864.819946   \n",
            "2019-04-18  1868.790039  1870.819946  1859.479980  1861.689941  1861.689941   \n",
            "2019-04-22  1855.400024  1888.420044  1845.640015  1887.310059  1887.310059   \n",
            "2019-04-23  1891.199951  1929.260010  1889.579956  1923.770020  1923.770020   \n",
            "2019-04-24  1925.000000  1929.689941  1898.160034  1901.750000  1901.750000   \n",
            "\n",
            "             Volume  \n",
            "Date                 \n",
            "2019-04-17  2893500  \n",
            "2019-04-18  2749900  \n",
            "2019-04-22  3373800  \n",
            "2019-04-23  4640400  \n",
            "2019-04-24  3675800  \n"
          ]
        }
      ],
      "source": [
        "print(data.head())"
      ]
    },
    {
      "cell_type": "code",
      "execution_count": null,
      "metadata": {
        "colab": {
          "base_uri": "https://localhost:8080/",
          "height": 300
        },
        "id": "Zi6K6Sx-bDw6",
        "outputId": "799e9a36-43f4-4839-8492-55888d6bf073"
      },
      "outputs": [
        {
          "data": {
            "text/html": [
              "\n",
              "  <div id=\"df-1859ef81-dec2-4a36-bad1-abf42b13af64\">\n",
              "    <div class=\"colab-df-container\">\n",
              "      <div>\n",
              "<style scoped>\n",
              "    .dataframe tbody tr th:only-of-type {\n",
              "        vertical-align: middle;\n",
              "    }\n",
              "\n",
              "    .dataframe tbody tr th {\n",
              "        vertical-align: top;\n",
              "    }\n",
              "\n",
              "    .dataframe thead th {\n",
              "        text-align: right;\n",
              "    }\n",
              "</style>\n",
              "<table border=\"1\" class=\"dataframe\">\n",
              "  <thead>\n",
              "    <tr style=\"text-align: right;\">\n",
              "      <th></th>\n",
              "      <th>Open</th>\n",
              "      <th>High</th>\n",
              "      <th>Low</th>\n",
              "      <th>Close</th>\n",
              "      <th>Adj Close</th>\n",
              "      <th>Volume</th>\n",
              "    </tr>\n",
              "  </thead>\n",
              "  <tbody>\n",
              "    <tr>\n",
              "      <th>count</th>\n",
              "      <td>252.000000</td>\n",
              "      <td>252.000000</td>\n",
              "      <td>252.000000</td>\n",
              "      <td>252.000000</td>\n",
              "      <td>252.000000</td>\n",
              "      <td>2.520000e+02</td>\n",
              "    </tr>\n",
              "    <tr>\n",
              "      <th>mean</th>\n",
              "      <td>1864.800556</td>\n",
              "      <td>1883.242064</td>\n",
              "      <td>1846.651429</td>\n",
              "      <td>1866.393093</td>\n",
              "      <td>1866.393093</td>\n",
              "      <td>4.060800e+06</td>\n",
              "    </tr>\n",
              "    <tr>\n",
              "      <th>std</th>\n",
              "      <td>110.513502</td>\n",
              "      <td>116.543016</td>\n",
              "      <td>110.148293</td>\n",
              "      <td>114.338644</td>\n",
              "      <td>114.338644</td>\n",
              "      <td>2.035731e+06</td>\n",
              "    </tr>\n",
              "    <tr>\n",
              "      <th>min</th>\n",
              "      <td>1641.510010</td>\n",
              "      <td>1725.000000</td>\n",
              "      <td>1626.030029</td>\n",
              "      <td>1676.609985</td>\n",
              "      <td>1676.609985</td>\n",
              "      <td>8.813000e+05</td>\n",
              "    </tr>\n",
              "    <tr>\n",
              "      <th>25%</th>\n",
              "      <td>1778.007507</td>\n",
              "      <td>1793.577515</td>\n",
              "      <td>1762.510040</td>\n",
              "      <td>1783.422516</td>\n",
              "      <td>1783.422516</td>\n",
              "      <td>2.748850e+06</td>\n",
              "    </tr>\n",
              "    <tr>\n",
              "      <th>50%</th>\n",
              "      <td>1842.005005</td>\n",
              "      <td>1870.639954</td>\n",
              "      <td>1826.875000</td>\n",
              "      <td>1854.284973</td>\n",
              "      <td>1854.284973</td>\n",
              "      <td>3.410900e+06</td>\n",
              "    </tr>\n",
              "    <tr>\n",
              "      <th>75%</th>\n",
              "      <td>1921.224945</td>\n",
              "      <td>1936.729981</td>\n",
              "      <td>1898.567535</td>\n",
              "      <td>1912.812469</td>\n",
              "      <td>1912.812469</td>\n",
              "      <td>4.754375e+06</td>\n",
              "    </tr>\n",
              "    <tr>\n",
              "      <th>max</th>\n",
              "      <td>2346.000000</td>\n",
              "      <td>2461.000000</td>\n",
              "      <td>2335.000000</td>\n",
              "      <td>2408.189941</td>\n",
              "      <td>2408.189941</td>\n",
              "      <td>1.556730e+07</td>\n",
              "    </tr>\n",
              "  </tbody>\n",
              "</table>\n",
              "</div>\n",
              "      <button class=\"colab-df-convert\" onclick=\"convertToInteractive('df-1859ef81-dec2-4a36-bad1-abf42b13af64')\"\n",
              "              title=\"Convert this dataframe to an interactive table.\"\n",
              "              style=\"display:none;\">\n",
              "        \n",
              "  <svg xmlns=\"http://www.w3.org/2000/svg\" height=\"24px\"viewBox=\"0 0 24 24\"\n",
              "       width=\"24px\">\n",
              "    <path d=\"M0 0h24v24H0V0z\" fill=\"none\"/>\n",
              "    <path d=\"M18.56 5.44l.94 2.06.94-2.06 2.06-.94-2.06-.94-.94-2.06-.94 2.06-2.06.94zm-11 1L8.5 8.5l.94-2.06 2.06-.94-2.06-.94L8.5 2.5l-.94 2.06-2.06.94zm10 10l.94 2.06.94-2.06 2.06-.94-2.06-.94-.94-2.06-.94 2.06-2.06.94z\"/><path d=\"M17.41 7.96l-1.37-1.37c-.4-.4-.92-.59-1.43-.59-.52 0-1.04.2-1.43.59L10.3 9.45l-7.72 7.72c-.78.78-.78 2.05 0 2.83L4 21.41c.39.39.9.59 1.41.59.51 0 1.02-.2 1.41-.59l7.78-7.78 2.81-2.81c.8-.78.8-2.07 0-2.86zM5.41 20L4 18.59l7.72-7.72 1.47 1.35L5.41 20z\"/>\n",
              "  </svg>\n",
              "      </button>\n",
              "      \n",
              "  <style>\n",
              "    .colab-df-container {\n",
              "      display:flex;\n",
              "      flex-wrap:wrap;\n",
              "      gap: 12px;\n",
              "    }\n",
              "\n",
              "    .colab-df-convert {\n",
              "      background-color: #E8F0FE;\n",
              "      border: none;\n",
              "      border-radius: 50%;\n",
              "      cursor: pointer;\n",
              "      display: none;\n",
              "      fill: #1967D2;\n",
              "      height: 32px;\n",
              "      padding: 0 0 0 0;\n",
              "      width: 32px;\n",
              "    }\n",
              "\n",
              "    .colab-df-convert:hover {\n",
              "      background-color: #E2EBFA;\n",
              "      box-shadow: 0px 1px 2px rgba(60, 64, 67, 0.3), 0px 1px 3px 1px rgba(60, 64, 67, 0.15);\n",
              "      fill: #174EA6;\n",
              "    }\n",
              "\n",
              "    [theme=dark] .colab-df-convert {\n",
              "      background-color: #3B4455;\n",
              "      fill: #D2E3FC;\n",
              "    }\n",
              "\n",
              "    [theme=dark] .colab-df-convert:hover {\n",
              "      background-color: #434B5C;\n",
              "      box-shadow: 0px 1px 3px 1px rgba(0, 0, 0, 0.15);\n",
              "      filter: drop-shadow(0px 1px 2px rgba(0, 0, 0, 0.3));\n",
              "      fill: #FFFFFF;\n",
              "    }\n",
              "  </style>\n",
              "\n",
              "      <script>\n",
              "        const buttonEl =\n",
              "          document.querySelector('#df-1859ef81-dec2-4a36-bad1-abf42b13af64 button.colab-df-convert');\n",
              "        buttonEl.style.display =\n",
              "          google.colab.kernel.accessAllowed ? 'block' : 'none';\n",
              "\n",
              "        async function convertToInteractive(key) {\n",
              "          const element = document.querySelector('#df-1859ef81-dec2-4a36-bad1-abf42b13af64');\n",
              "          const dataTable =\n",
              "            await google.colab.kernel.invokeFunction('convertToInteractive',\n",
              "                                                     [key], {});\n",
              "          if (!dataTable) return;\n",
              "\n",
              "          const docLinkHtml = 'Like what you see? Visit the ' +\n",
              "            '<a target=\"_blank\" href=https://colab.research.google.com/notebooks/data_table.ipynb>data table notebook</a>'\n",
              "            + ' to learn more about interactive tables.';\n",
              "          element.innerHTML = '';\n",
              "          dataTable['output_type'] = 'display_data';\n",
              "          await google.colab.output.renderOutput(dataTable, element);\n",
              "          const docLink = document.createElement('div');\n",
              "          docLink.innerHTML = docLinkHtml;\n",
              "          element.appendChild(docLink);\n",
              "        }\n",
              "      </script>\n",
              "    </div>\n",
              "  </div>\n",
              "  "
            ],
            "text/plain": [
              "              Open         High          Low        Close    Adj Close  \\\n",
              "count   252.000000   252.000000   252.000000   252.000000   252.000000   \n",
              "mean   1864.800556  1883.242064  1846.651429  1866.393093  1866.393093   \n",
              "std     110.513502   116.543016   110.148293   114.338644   114.338644   \n",
              "min    1641.510010  1725.000000  1626.030029  1676.609985  1676.609985   \n",
              "25%    1778.007507  1793.577515  1762.510040  1783.422516  1783.422516   \n",
              "50%    1842.005005  1870.639954  1826.875000  1854.284973  1854.284973   \n",
              "75%    1921.224945  1936.729981  1898.567535  1912.812469  1912.812469   \n",
              "max    2346.000000  2461.000000  2335.000000  2408.189941  2408.189941   \n",
              "\n",
              "             Volume  \n",
              "count  2.520000e+02  \n",
              "mean   4.060800e+06  \n",
              "std    2.035731e+06  \n",
              "min    8.813000e+05  \n",
              "25%    2.748850e+06  \n",
              "50%    3.410900e+06  \n",
              "75%    4.754375e+06  \n",
              "max    1.556730e+07  "
            ]
          },
          "execution_count": 3,
          "metadata": {},
          "output_type": "execute_result"
        }
      ],
      "source": [
        "data.describe()"
      ]
    },
    {
      "cell_type": "code",
      "execution_count": null,
      "metadata": {
        "colab": {
          "base_uri": "https://localhost:8080/",
          "height": 320
        },
        "id": "kcPK7uPObDw6",
        "outputId": "9d3c7b60-bac5-4d7b-aa7e-a91585ac9a43"
      },
      "outputs": [
        {
          "data": {
            "image/png": "[encoded data removed]",
            "text/plain": [
              "<Figure size 720x360 with 1 Axes>"
            ]
          },
          "metadata": {
            "needs_background": "light"
          },
          "output_type": "display_data"
        }
      ],
      "source": [
        "import matplotlib.pyplot as plt\n",
        "plt.figure(figsize=(10,5))\n",
        "plt.plot(data['Close'])\n",
        "plt.show()"
      ]
    },
    {
      "cell_type": "markdown",
      "metadata": {
        "id": "2tpbI9Nk3TNy"
      },
      "source": [
        "- 정상성(Stationarity)\n",
        " - RNN이나 좋은 기법이라 하더라도 시계열 자료가 정상성이 결여된 경우 성능이 좋지 않을 수 있음\n",
        " - 정상성이란: 시계열 자료가 뚜렷한 트렌드 없이 값의 변동이 시간의 흐름에 따라 일정, stationarity\n",
        " - 정상성 여부의 검정: Dickey Fuller의 단위근 검정\n",
        "  - 귀무가설: 비정상시계열 (단위근 있다)\n",
        "  - 대립가설: 정상시계열(단위근 없다)\n",
        "\n",
        " - 비정상시계열인 경우: 시계열 자료 차분(differencing)하여 정상시계열로 변환 후 피팅\n",
        "\n",
        " - 주가: 일반적으로 비정상 시계열, 로그수익율인 경우 정상시계열이 됨\n",
        " - 수익율 = 현재 가격/과거 가격\n",
        " - 로그수익율: log현재가격-log과거가격 = log(현재가격/과거가격)\n"
      ]
    },
    {
      "cell_type": "code",
      "execution_count": null,
      "metadata": {
        "colab": {
          "base_uri": "https://localhost:8080/"
        },
        "id": "tYkLmtgxbDw7",
        "outputId": "6eeb4f7a-ae86-421b-ecbf-fd7fd979d842"
      },
      "outputs": [
        {
          "name": "stderr",
          "output_type": "stream",
          "text": [
            "/usr/local/lib/python3.7/dist-packages/statsmodels/tools/_testing.py:19: FutureWarning: pandas.util.testing is deprecated. Use the functions in the public API at pandas.testing instead.\n",
            "  import pandas.util.testing as tm\n"
          ]
        },
        {
          "name": "stdout",
          "output_type": "stream",
          "text": [
            "(-1.3767742252801602, 0.5933588180241118, 9, 242, {'1%': -3.457664132155201, '5%': -2.8735585105960224, '10%': -2.5731749894132916}, 2330.001481538131)\n"
          ]
        }
      ],
      "source": [
        "#!pip install statsmodels\n",
        "from statsmodels.tsa.stattools import adfuller    #종가의 정상성 여부 점검\n",
        "result=adfuller(data['Close'])\n",
        "print(result) #0.5933이 p-value, 비정상 시계열"
      ]
    },
    {
      "cell_type": "markdown",
      "metadata": {
        "id": "pEkQSkSc4-hC"
      },
      "source": [
        "- acf, pacf\n",
        " - acf: 자기상관함수, autocorrelation function\n",
        " - pacf: 편자기상관함수, partial autocorrelation function\n",
        "\n",
        " - p가 증가 시, 지수적 감소 혹은 절단 형태여야 정상성, 둘 중 하나라도 느리게 감소하거나 증가 시 비정상성"
      ]
    },
    {
      "cell_type": "code",
      "execution_count": null,
      "metadata": {
        "colab": {
          "base_uri": "https://localhost:8080/",
          "height": 545
        },
        "id": "6cY6yt33bDw8",
        "outputId": "5c31f5c0-e788-4666-d193-ee9876124a93"
      },
      "outputs": [
        {
          "data": {
            "image/png": "[encoded data removed]",
            "text/plain": [
              "<Figure size 432x288 with 1 Axes>"
            ]
          },
          "metadata": {
            "needs_background": "light"
          },
          "output_type": "display_data"
        },
        {
          "data": {
            "image/png": "[encoded data removed]",
            "text/plain": [
              "<Figure size 432x288 with 1 Axes>"
            ]
          },
          "metadata": {
            "needs_background": "light"
          },
          "output_type": "display_data"
        }
      ],
      "source": [
        "from statsmodels.graphics.tsaplots import plot_acf, plot_pacf\n",
        "plot_acf(data['Close']) #느리게 감소, 비정상시계열\n",
        "plot_pacf(data['Close'])\n",
        "plt.show()"
      ]
    },
    {
      "cell_type": "code",
      "execution_count": null,
      "metadata": {
        "colab": {
          "base_uri": "https://localhost:8080/",
          "height": 483
        },
        "id": "YaDvfbnAbDw8",
        "outputId": "6ae578b3-fb65-4499-974f-4810017dfbe9"
      },
      "outputs": [
        {
          "name": "stdout",
          "output_type": "stream",
          "text": [
            "             Open        High         Low       Close   Adj Close      Volume\n",
            "count  251.000000  251.000000  251.000000  251.000000  251.000000  251.000000\n",
            "mean     0.000897    0.001080    0.000905    0.001019    0.001019    0.005657\n",
            "std      0.020894    0.016299    0.017545    0.019030    0.019030    0.347770\n",
            "min     -0.075945   -0.058493   -0.072806   -0.082535   -0.082535   -0.970373\n",
            "25%     -0.008895   -0.006549   -0.007209   -0.007880   -0.007880   -0.209841\n",
            "50%      0.000475    0.000223    0.001132    0.000514    0.000514   -0.025878\n",
            "75%      0.009870    0.007017    0.008136    0.008992    0.008992    0.200873\n",
            "max      0.099056    0.093154    0.078766    0.071196    0.071196    1.919016\n"
          ]
        },
        {
          "data": {
            "image/png": "[encoded data removed]",
            "text/plain": [
              "<Figure size 720x360 with 1 Axes>"
            ]
          },
          "metadata": {
            "needs_background": "light"
          },
          "output_type": "display_data"
        }
      ],
      "source": [
        "import numpy as np\n",
        "datapct=data.pct_change()\n",
        "logreturn=np.log(1+datapct) #로그수익율\n",
        "logreturn.head()\n",
        "print(logreturn.describe())\n",
        "plt.figure(figsize=(10,5))\n",
        "plt.plot(logreturn['Close'])\n",
        "plt.show()"
      ]
    },
    {
      "cell_type": "code",
      "execution_count": null,
      "metadata": {
        "colab": {
          "base_uri": "https://localhost:8080/"
        },
        "id": "9lrWb_q_bDw9",
        "outputId": "d06bbd81-de3e-4f07-9aa8-5baeb5fd5350"
      },
      "outputs": [
        {
          "name": "stdout",
          "output_type": "stream",
          "text": [
            "(-3.656873938146206, 0.00476231659749063, 8, 242, {'1%': -3.457664132155201, '5%': -2.8735585105960224, '10%': -2.5731749894132916}, -1210.8538494804302)\n"
          ]
        }
      ],
      "source": [
        "from statsmodels.tsa.stattools import adfuller\n",
        "logreturn=logreturn.dropna()\n",
        "result=adfuller(logreturn['Close']) #p-value < 0.05\n",
        "print(result)"
      ]
    },
    {
      "cell_type": "code",
      "execution_count": null,
      "metadata": {
        "colab": {
          "base_uri": "https://localhost:8080/",
          "height": 563
        },
        "id": "1VI1p22fbDw-",
        "outputId": "343d242b-6c29-4342-b723-5aee47770b77"
      },
      "outputs": [
        {
          "data": {
            "image/png": "[encoded data removed]",
            "text/plain": [
              "<Figure size 432x288 with 1 Axes>"
            ]
          },
          "metadata": {
            "needs_background": "light"
          },
          "output_type": "display_data"
        },
        {
          "data": {
            "image/png": "[encoded data removed]",
            "text/plain": [
              "<Figure size 432x288 with 1 Axes>"
            ]
          },
          "metadata": {
            "needs_background": "light"
          },
          "output_type": "display_data"
        },
        {
          "name": "stdout",
          "output_type": "stream",
          "text": [
            "<class 'pandas.core.frame.DataFrame'>\n"
          ]
        }
      ],
      "source": [
        "from statsmodels.graphics.tsaplots import plot_acf, plot_pacf\n",
        "plot_acf(logreturn['Close'])  \n",
        "plot_pacf(logreturn['Close']) #그림에서 절단이 일어나는 위치를 p의 값으로 지정, 14?\n",
        "plt.show()\n",
        "print(type(logreturn))"
      ]
    },
    {
      "cell_type": "code",
      "execution_count": null,
      "metadata": {
        "colab": {
          "base_uri": "https://localhost:8080/"
        },
        "id": "Xy_e8rg0bDw_",
        "outputId": "ffb3783d-554e-4395-c8de-84a522aa4cf0"
      },
      "outputs": [
        {
          "name": "stdout",
          "output_type": "stream",
          "text": [
            "<class 'numpy.ndarray'>\n",
            "(251,)\n",
            "(1, 251)\n",
            "<class 'list'>\n",
            "<class 'list'>\n",
            "<class 'numpy.ndarray'>\n",
            "<class 'numpy.ndarray'>\n",
            "(227, 24)\n",
            "(227,)\n"
          ]
        }
      ],
      "source": [
        "logr1=logreturn['Close'].values\n",
        "print(type(logr1))\n",
        "print(logr1.shape)\n",
        "logr=logr1.reshape(1,-1)\n",
        "print(logr.shape)\n",
        "inte=24\n",
        "x=[]\n",
        "y=[]\n",
        "for i in range(logr.shape[1]):\n",
        "    if i+inte>logr.shape[1]-1:\n",
        "        break\n",
        "    else:\n",
        "         xx=logr[0,i:i+inte]\n",
        "         x.append(xx)\n",
        "         yy=logr[0,i+inte]\n",
        "         y.append(yy)\n",
        "print(type(x))\n",
        "print(type(y))\n",
        "x=np.array(x)\n",
        "y=np.array(y)\n",
        "print(type(x))\n",
        "print(type(y))\n",
        "print(x.shape)\n",
        "print(y.shape)\n",
        "x_train=x[:210]\n",
        "x_test=x[210:]\n",
        "y_train=y[:210]\n",
        "y_test=y[210:]"
      ]
    },
    {
      "cell_type": "code",
      "execution_count": null,
      "metadata": {
        "colab": {
          "base_uri": "https://localhost:8080/"
        },
        "id": "5v6ubCqBbDw_",
        "outputId": "140e8da6-6d79-407e-d7ab-9cd02bc47b88"
      },
      "outputs": [
        {
          "name": "stdout",
          "output_type": "stream",
          "text": [
            "Epoch 1/30\n",
            "7/7 [==============================] - 1s 3ms/step - loss: 7.2261e-04 - mae: 0.0195\n",
            "Epoch 2/30\n",
            "7/7 [==============================] - 0s 3ms/step - loss: 6.9110e-04 - mae: 0.0190\n",
            "Epoch 3/30\n",
            "7/7 [==============================] - 0s 2ms/step - loss: 6.7470e-04 - mae: 0.0188\n",
            "Epoch 4/30\n",
            "7/7 [==============================] - 0s 2ms/step - loss: 6.6424e-04 - mae: 0.0186\n",
            "Epoch 5/30\n",
            "7/7 [==============================] - 0s 2ms/step - loss: 6.5516e-04 - mae: 0.0185\n",
            "Epoch 6/30\n",
            "7/7 [==============================] - 0s 2ms/step - loss: 6.4372e-04 - mae: 0.0184\n",
            "Epoch 7/30\n",
            "7/7 [==============================] - 0s 2ms/step - loss: 6.3657e-04 - mae: 0.0182\n",
            "Epoch 8/30\n",
            "7/7 [==============================] - 0s 2ms/step - loss: 6.2363e-04 - mae: 0.0180\n",
            "Epoch 9/30\n",
            "7/7 [==============================] - 0s 2ms/step - loss: 6.1392e-04 - mae: 0.0179\n",
            "Epoch 10/30\n",
            "7/7 [==============================] - 0s 2ms/step - loss: 6.0512e-04 - mae: 0.0177\n",
            "Epoch 11/30\n",
            "7/7 [==============================] - 0s 2ms/step - loss: 5.9604e-04 - mae: 0.0176\n",
            "Epoch 12/30\n",
            "7/7 [==============================] - 0s 2ms/step - loss: 5.8679e-04 - mae: 0.0175\n",
            "Epoch 13/30\n",
            "7/7 [==============================] - 0s 2ms/step - loss: 5.7808e-04 - mae: 0.0173\n",
            "Epoch 14/30\n",
            "7/7 [==============================] - 0s 2ms/step - loss: 5.6775e-04 - mae: 0.0172\n",
            "Epoch 15/30\n",
            "7/7 [==============================] - 0s 2ms/step - loss: 5.6052e-04 - mae: 0.0171\n",
            "Epoch 16/30\n",
            "7/7 [==============================] - 0s 2ms/step - loss: 5.5088e-04 - mae: 0.0170\n",
            "Epoch 17/30\n",
            "7/7 [==============================] - 0s 2ms/step - loss: 5.4474e-04 - mae: 0.0169\n",
            "Epoch 18/30\n",
            "7/7 [==============================] - 0s 2ms/step - loss: 5.3773e-04 - mae: 0.0168\n",
            "Epoch 19/30\n",
            "7/7 [==============================] - 0s 2ms/step - loss: 5.2606e-04 - mae: 0.0166\n",
            "Epoch 20/30\n",
            "7/7 [==============================] - 0s 2ms/step - loss: 5.2171e-04 - mae: 0.0165\n",
            "Epoch 21/30\n",
            "7/7 [==============================] - 0s 2ms/step - loss: 5.1300e-04 - mae: 0.0164\n",
            "Epoch 22/30\n",
            "7/7 [==============================] - 0s 2ms/step - loss: 5.0663e-04 - mae: 0.0163\n",
            "Epoch 23/30\n",
            "7/7 [==============================] - 0s 2ms/step - loss: 4.9816e-04 - mae: 0.0161\n",
            "Epoch 24/30\n",
            "7/7 [==============================] - 0s 2ms/step - loss: 4.9243e-04 - mae: 0.0161\n",
            "Epoch 25/30\n",
            "7/7 [==============================] - 0s 2ms/step - loss: 4.8538e-04 - mae: 0.0160\n",
            "Epoch 26/30\n",
            "7/7 [==============================] - 0s 2ms/step - loss: 4.7886e-04 - mae: 0.0159\n",
            "Epoch 27/30\n",
            "7/7 [==============================] - 0s 2ms/step - loss: 4.7106e-04 - mae: 0.0157\n",
            "Epoch 28/30\n",
            "7/7 [==============================] - 0s 2ms/step - loss: 4.6444e-04 - mae: 0.0157\n",
            "Epoch 29/30\n",
            "7/7 [==============================] - 0s 2ms/step - loss: 4.5591e-04 - mae: 0.0156\n",
            "Epoch 30/30\n",
            "7/7 [==============================] - 0s 2ms/step - loss: 4.5242e-04 - mae: 0.0155\n",
            "7/7 [==============================] - 0s 2ms/step - loss: 4.4746e-04 - mae: 0.0154\n",
            "1/1 [==============================] - 0s 17ms/step - loss: 0.0022 - mae: 0.0381\n",
            "[0.0004474618472158909, 0.015351701527833939]\n",
            "[0.002165508223697543, 0.038083791732788086]\n"
          ]
        }
      ],
      "source": [
        "from tensorflow.keras.models import Sequential\n",
        "from tensorflow.keras.layers import Dense,GRU,LSTM\n",
        "from tensorflow.keras import regularizers\n",
        "model=Sequential()\n",
        "model.add(Dense(1,input_shape=(24,))) #p=24, AR(14)모형과 동일, 14개의 x변수를 갖는 셈.\n",
        "model.compile(optimizer='rmsprop', loss='mse',metrics=['mae'])\n",
        "model.fit(x_train,y_train,epochs=30,batch_size=32)\n",
        "loss_acc=model.evaluate(x_train,y_train)\n",
        "los_test=model.evaluate(x_test,y_test)\n",
        "print(loss_acc)\n",
        "print(los_test)"
      ]
    },
    {
      "cell_type": "code",
      "execution_count": null,
      "metadata": {
        "colab": {
          "base_uri": "https://localhost:8080/"
        },
        "id": "Ag2ntW6rbDxA",
        "outputId": "a3a3c5ae-80c5-4b2c-ee0a-47a33d127d95"
      },
      "outputs": [
        {
          "name": "stdout",
          "output_type": "stream",
          "text": [
            "Epoch 1/30\n",
            "7/7 [==============================] - 0s 2ms/step - loss: 4.5610e-04 - mae: 0.0149\n",
            "Epoch 2/30\n",
            "7/7 [==============================] - 0s 2ms/step - loss: 3.5118e-04 - mae: 0.0129\n",
            "Epoch 3/30\n",
            "7/7 [==============================] - 0s 2ms/step - loss: 3.1066e-04 - mae: 0.0120\n",
            "Epoch 4/30\n",
            "7/7 [==============================] - 0s 2ms/step - loss: 2.8949e-04 - mae: 0.0117\n",
            "Epoch 5/30\n",
            "7/7 [==============================] - 0s 2ms/step - loss: 2.6636e-04 - mae: 0.0112\n",
            "Epoch 6/30\n",
            "7/7 [==============================] - 0s 2ms/step - loss: 2.4749e-04 - mae: 0.0107\n",
            "Epoch 7/30\n",
            "7/7 [==============================] - 0s 2ms/step - loss: 2.6094e-04 - mae: 0.0114\n",
            "Epoch 8/30\n",
            "7/7 [==============================] - 0s 3ms/step - loss: 2.2651e-04 - mae: 0.0107\n",
            "Epoch 9/30\n",
            "7/7 [==============================] - 0s 2ms/step - loss: 2.1639e-04 - mae: 0.0106\n",
            "Epoch 10/30\n",
            "7/7 [==============================] - 0s 2ms/step - loss: 2.1135e-04 - mae: 0.0105\n",
            "Epoch 11/30\n",
            "7/7 [==============================] - 0s 2ms/step - loss: 2.1249e-04 - mae: 0.0106\n",
            "Epoch 12/30\n",
            "7/7 [==============================] - 0s 2ms/step - loss: 1.8586e-04 - mae: 0.0097\n",
            "Epoch 13/30\n",
            "7/7 [==============================] - 0s 2ms/step - loss: 1.8911e-04 - mae: 0.0100\n",
            "Epoch 14/30\n",
            "7/7 [==============================] - 0s 2ms/step - loss: 1.8291e-04 - mae: 0.0100\n",
            "Epoch 15/30\n",
            "7/7 [==============================] - 0s 2ms/step - loss: 1.7338e-04 - mae: 0.0096\n",
            "Epoch 16/30\n",
            "7/7 [==============================] - 0s 3ms/step - loss: 1.7546e-04 - mae: 0.0097\n",
            "Epoch 17/30\n",
            "7/7 [==============================] - 0s 3ms/step - loss: 1.5899e-04 - mae: 0.0092\n",
            "Epoch 18/30\n",
            "7/7 [==============================] - 0s 2ms/step - loss: 1.7248e-04 - mae: 0.0096\n",
            "Epoch 19/30\n",
            "7/7 [==============================] - 0s 2ms/step - loss: 1.4795e-04 - mae: 0.0088\n",
            "Epoch 20/30\n",
            "7/7 [==============================] - 0s 2ms/step - loss: 1.5559e-04 - mae: 0.0092\n",
            "Epoch 21/30\n",
            "7/7 [==============================] - 0s 3ms/step - loss: 1.3556e-04 - mae: 0.0086\n",
            "Epoch 22/30\n",
            "7/7 [==============================] - 0s 3ms/step - loss: 1.2973e-04 - mae: 0.0083\n",
            "Epoch 23/30\n",
            "7/7 [==============================] - 0s 2ms/step - loss: 1.4578e-04 - mae: 0.0091\n",
            "Epoch 24/30\n",
            "7/7 [==============================] - 0s 3ms/step - loss: 1.1733e-04 - mae: 0.0081\n",
            "Epoch 25/30\n",
            "7/7 [==============================] - 0s 2ms/step - loss: 1.2135e-04 - mae: 0.0081\n",
            "Epoch 26/30\n",
            "7/7 [==============================] - 0s 2ms/step - loss: 1.2713e-04 - mae: 0.0084\n",
            "Epoch 27/30\n",
            "7/7 [==============================] - 0s 2ms/step - loss: 1.0828e-04 - mae: 0.0078\n",
            "Epoch 28/30\n",
            "7/7 [==============================] - 0s 2ms/step - loss: 1.2498e-04 - mae: 0.0087\n",
            "Epoch 29/30\n",
            "7/7 [==============================] - 0s 2ms/step - loss: 1.0493e-04 - mae: 0.0077\n",
            "Epoch 30/30\n",
            "7/7 [==============================] - 0s 2ms/step - loss: 1.0355e-04 - mae: 0.0077\n",
            "7/7 [==============================] - 0s 2ms/step - loss: 9.6158e-05 - mae: 0.0074\n",
            "1/1 [==============================] - 0s 17ms/step - loss: 0.0014 - mae: 0.0283\n",
            "[9.615766612114385e-05, 0.00741230882704258]\n",
            "[0.0013734673848375678, 0.028340065851807594]\n"
          ]
        }
      ],
      "source": [
        "from tensorflow.keras.models import Sequential\n",
        "from tensorflow.keras.layers import Dense,GRU,LSTM\n",
        "model=Sequential()\n",
        "model.add(Dense(64,activation='relu',input_shape=(24,)))\n",
        "model.add(Dense(1))                \n",
        "\n",
        "model.compile(optimizer='rmsprop', loss='mse',metrics=['mae'])\n",
        "model.fit(x_train,y_train,epochs=30,batch_size=32)\n",
        "loss_acc=model.evaluate(x_train,y_train)\n",
        "los_test=model.evaluate(x_test,y_test)\n",
        "print(loss_acc)\n",
        "print(los_test)"
      ]
    },
    {
      "cell_type": "code",
      "execution_count": null,
      "metadata": {
        "colab": {
          "base_uri": "https://localhost:8080/"
        },
        "id": "dtIaEdGKbDxA",
        "outputId": "15af5b32-fa29-46c5-b559-14db26a151c4"
      },
      "outputs": [
        {
          "name": "stdout",
          "output_type": "stream",
          "text": [
            "Epoch 1/30\n",
            "7/7 [==============================] - 3s 4ms/step - loss: 3.4364e-04 - mae: 0.0128\n",
            "Epoch 2/30\n",
            "7/7 [==============================] - 0s 3ms/step - loss: 3.2421e-04 - mae: 0.0126\n",
            "Epoch 3/30\n",
            "7/7 [==============================] - 0s 3ms/step - loss: 3.2439e-04 - mae: 0.0123\n",
            "Epoch 4/30\n",
            "7/7 [==============================] - 0s 3ms/step - loss: 3.0963e-04 - mae: 0.0121\n",
            "Epoch 5/30\n",
            "7/7 [==============================] - 0s 3ms/step - loss: 3.0722e-04 - mae: 0.0122\n",
            "Epoch 6/30\n",
            "7/7 [==============================] - 0s 3ms/step - loss: 3.1562e-04 - mae: 0.0124\n",
            "Epoch 7/30\n",
            "7/7 [==============================] - 0s 3ms/step - loss: 2.9952e-04 - mae: 0.0120\n",
            "Epoch 8/30\n",
            "7/7 [==============================] - 0s 3ms/step - loss: 2.9509e-04 - mae: 0.0119\n",
            "Epoch 9/30\n",
            "7/7 [==============================] - 0s 3ms/step - loss: 2.9369e-04 - mae: 0.0117\n",
            "Epoch 10/30\n",
            "7/7 [==============================] - 0s 3ms/step - loss: 2.8873e-04 - mae: 0.0118\n",
            "Epoch 11/30\n",
            "7/7 [==============================] - 0s 3ms/step - loss: 2.8481e-04 - mae: 0.0117\n",
            "Epoch 12/30\n",
            "7/7 [==============================] - 0s 4ms/step - loss: 2.8182e-04 - mae: 0.0117\n",
            "Epoch 13/30\n",
            "7/7 [==============================] - 0s 3ms/step - loss: 2.7497e-04 - mae: 0.0117\n",
            "Epoch 14/30\n",
            "7/7 [==============================] - 0s 3ms/step - loss: 2.8937e-04 - mae: 0.0120\n",
            "Epoch 15/30\n",
            "7/7 [==============================] - 0s 3ms/step - loss: 2.7918e-04 - mae: 0.0117\n",
            "Epoch 16/30\n",
            "7/7 [==============================] - 0s 3ms/step - loss: 2.6997e-04 - mae: 0.0115\n",
            "Epoch 17/30\n",
            "7/7 [==============================] - 0s 3ms/step - loss: 2.8004e-04 - mae: 0.0119\n",
            "Epoch 18/30\n",
            "7/7 [==============================] - 0s 3ms/step - loss: 2.7007e-04 - mae: 0.0115\n",
            "Epoch 19/30\n",
            "7/7 [==============================] - 0s 3ms/step - loss: 2.6785e-04 - mae: 0.0117\n",
            "Epoch 20/30\n",
            "7/7 [==============================] - 0s 3ms/step - loss: 2.6417e-04 - mae: 0.0114\n",
            "Epoch 21/30\n",
            "7/7 [==============================] - 0s 3ms/step - loss: 2.6674e-04 - mae: 0.0115\n",
            "Epoch 22/30\n",
            "7/7 [==============================] - 0s 3ms/step - loss: 2.6206e-04 - mae: 0.0115\n",
            "Epoch 23/30\n",
            "7/7 [==============================] - 0s 3ms/step - loss: 2.6327e-04 - mae: 0.0115\n",
            "Epoch 24/30\n",
            "7/7 [==============================] - 0s 3ms/step - loss: 2.6048e-04 - mae: 0.0115\n",
            "Epoch 25/30\n",
            "7/7 [==============================] - 0s 3ms/step - loss: 2.6279e-04 - mae: 0.0115\n",
            "Epoch 26/30\n",
            "7/7 [==============================] - 0s 4ms/step - loss: 2.5835e-04 - mae: 0.0113\n",
            "Epoch 27/30\n",
            "7/7 [==============================] - 0s 3ms/step - loss: 2.6403e-04 - mae: 0.0116\n",
            "Epoch 28/30\n",
            "7/7 [==============================] - 0s 3ms/step - loss: 2.6150e-04 - mae: 0.0115\n",
            "Epoch 29/30\n",
            "7/7 [==============================] - 0s 3ms/step - loss: 2.5936e-04 - mae: 0.0114\n",
            "Epoch 30/30\n",
            "7/7 [==============================] - 0s 3ms/step - loss: 2.5825e-04 - mae: 0.0116\n",
            "7/7 [==============================] - 0s 2ms/step - loss: 2.7997e-04 - mae: 0.0121\n",
            "1/1 [==============================] - 0s 18ms/step - loss: 7.4018e-04 - mae: 0.0204\n",
            "[0.0002799694484565407, 0.01213802956044674]\n",
            "[0.0007401759503409266, 0.02039971575140953]\n"
          ]
        }
      ],
      "source": [
        "x_train=x_train.reshape(-1,1,24)\n",
        "x_test=x_test.reshape(-1,1,24)\n",
        "from tensorflow.keras.models import Sequential\n",
        "from tensorflow.keras.layers import Dense,GRU,LSTM  #(sample, timestep, features 형태의 데이터)\n",
        "model=Sequential()\n",
        "model.add(LSTM(32, input_shape=(1,24)))\n",
        "model.add(Dense(1))\n",
        "model.compile(optimizer='rmsprop', loss='mse',metrics=['mae'])\n",
        "model.fit(x_train,y_train,epochs=30,batch_size=32)\n",
        "loss_acc=model.evaluate(x_train,y_train)\n",
        "los_test=model.evaluate(x_test,y_test)\n",
        "print(loss_acc)\n",
        "print(los_test)"
      ]
    },
    {
      "cell_type": "code",
      "execution_count": null,
      "metadata": {
        "colab": {
          "base_uri": "https://localhost:8080/"
        },
        "id": "E9OhGEZibDxB",
        "outputId": "c47d1895-a3fb-4dc1-95c1-fd834720c5e7"
      },
      "outputs": [
        {
          "name": "stdout",
          "output_type": "stream",
          "text": [
            "Epoch 1/30\n",
            "7/7 [==============================] - 2s 3ms/step - loss: 4.1947e-04 - mae: 0.0147\n",
            "Epoch 2/30\n",
            "7/7 [==============================] - 0s 3ms/step - loss: 3.1703e-04 - mae: 0.0129\n",
            "Epoch 3/30\n",
            "7/7 [==============================] - 0s 3ms/step - loss: 3.0645e-04 - mae: 0.0124\n",
            "Epoch 4/30\n",
            "7/7 [==============================] - 0s 3ms/step - loss: 3.0161e-04 - mae: 0.0124\n",
            "Epoch 5/30\n",
            "7/7 [==============================] - 0s 3ms/step - loss: 2.9015e-04 - mae: 0.0123\n",
            "Epoch 6/30\n",
            "7/7 [==============================] - 0s 3ms/step - loss: 3.1528e-04 - mae: 0.0128\n",
            "Epoch 7/30\n",
            "7/7 [==============================] - 0s 3ms/step - loss: 2.9671e-04 - mae: 0.0123\n",
            "Epoch 8/30\n",
            "7/7 [==============================] - 0s 3ms/step - loss: 2.7591e-04 - mae: 0.0119\n",
            "Epoch 9/30\n",
            "7/7 [==============================] - 0s 3ms/step - loss: 3.0001e-04 - mae: 0.0127\n",
            "Epoch 10/30\n",
            "7/7 [==============================] - 0s 4ms/step - loss: 2.7715e-04 - mae: 0.0121\n",
            "Epoch 11/30\n",
            "7/7 [==============================] - 0s 3ms/step - loss: 2.6787e-04 - mae: 0.0118\n",
            "Epoch 12/30\n",
            "7/7 [==============================] - 0s 3ms/step - loss: 2.7094e-04 - mae: 0.0119\n",
            "Epoch 13/30\n",
            "7/7 [==============================] - 0s 3ms/step - loss: 2.7924e-04 - mae: 0.0122\n",
            "Epoch 14/30\n",
            "7/7 [==============================] - 0s 3ms/step - loss: 2.6052e-04 - mae: 0.0119\n",
            "Epoch 15/30\n",
            "7/7 [==============================] - 0s 3ms/step - loss: 2.6006e-04 - mae: 0.0116\n",
            "Epoch 16/30\n",
            "7/7 [==============================] - 0s 3ms/step - loss: 2.6082e-04 - mae: 0.0118\n",
            "Epoch 17/30\n",
            "7/7 [==============================] - 0s 3ms/step - loss: 2.9862e-04 - mae: 0.0126\n",
            "Epoch 18/30\n",
            "7/7 [==============================] - 0s 3ms/step - loss: 2.6288e-04 - mae: 0.0119\n",
            "Epoch 19/30\n",
            "7/7 [==============================] - 0s 4ms/step - loss: 2.6527e-04 - mae: 0.0120\n",
            "Epoch 20/30\n",
            "7/7 [==============================] - 0s 3ms/step - loss: 2.8037e-04 - mae: 0.0122\n",
            "Epoch 21/30\n",
            "7/7 [==============================] - 0s 4ms/step - loss: 2.5673e-04 - mae: 0.0117\n",
            "Epoch 22/30\n",
            "7/7 [==============================] - 0s 3ms/step - loss: 2.6630e-04 - mae: 0.0119\n",
            "Epoch 23/30\n",
            "7/7 [==============================] - 0s 4ms/step - loss: 2.8487e-04 - mae: 0.0125\n",
            "Epoch 24/30\n",
            "7/7 [==============================] - 0s 4ms/step - loss: 2.6136e-04 - mae: 0.0118\n",
            "Epoch 25/30\n",
            "7/7 [==============================] - 0s 3ms/step - loss: 2.5901e-04 - mae: 0.0117\n",
            "Epoch 26/30\n",
            "7/7 [==============================] - 0s 3ms/step - loss: 2.6810e-04 - mae: 0.0120\n",
            "Epoch 27/30\n",
            "7/7 [==============================] - 0s 3ms/step - loss: 2.6053e-04 - mae: 0.0119\n",
            "Epoch 28/30\n",
            "7/7 [==============================] - 0s 3ms/step - loss: 2.7090e-04 - mae: 0.0120\n",
            "Epoch 29/30\n",
            "7/7 [==============================] - 0s 3ms/step - loss: 2.6342e-04 - mae: 0.0121\n",
            "Epoch 30/30\n",
            "7/7 [==============================] - 0s 3ms/step - loss: 2.6568e-04 - mae: 0.0121\n",
            "7/7 [==============================] - 0s 2ms/step - loss: 2.7499e-04 - mae: 0.0124\n",
            "1/1 [==============================] - 0s 19ms/step - loss: 9.6010e-04 - mae: 0.0222\n",
            "[0.0002749876584857702, 0.012383267283439636]\n",
            "[0.0009600957273505628, 0.022179747000336647]\n"
          ]
        }
      ],
      "source": [
        "model=Sequential()\n",
        "model.add(GRU(32, input_shape=(1,24)))\n",
        "model.add(Dense(1))\n",
        "model.compile(optimizer='rmsprop', loss='mse',metrics=['mae'])\n",
        "model.fit(x_train,y_train,epochs=30,batch_size=32)\n",
        "loss_acc=model.evaluate(x_train,y_train)\n",
        "los_test=model.evaluate(x_test,y_test)\n",
        "print(loss_acc)\n",
        "print(los_test)"
      ]
    }
  ],
  "metadata": {
    "colab": {
      "collapsed_sections": [],
      "name": "HH2_2022_6회차_4_RNN_주가예측_실습.ipynb",
      "provenance": []
    },
    "kernelspec": {
      "display_name": "Python 3",
      "language": "python",
      "name": "python3"
    },
    "language_info": {
      "codemirror_mode": {
        "name": "ipython",
        "version": 3
      },
      "file_extension": ".py",
      "mimetype": "text/x-python",
      "name": "python",
      "nbconvert_exporter": "python",
      "pygments_lexer": "ipython3",
      "version": "3.8.5"
    }
  },
  "nbformat": 4,
  "nbformat_minor": 0
}
